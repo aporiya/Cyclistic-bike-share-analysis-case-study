{
 "cells": [
  {
   "cell_type": "markdown",
   "metadata": {},
   "source": [
    "# Cyclistic Bike-Share Analysis Case Study\n",
    "\n",
    "## Introduction\n",
    "Welcome to the Cyclistic bike-share analysis case study! In this project, we will analyze the historical trip data of Cyclistic, a bike-share company in Chicago. The goal is to understand how casual riders and annual members use Cyclistic bikes differently and provide insights for designing a new marketing strategy.\n",
    "\n",
    "## Ask\n",
    "Our primary task is to answer the question: \n",
    "1. How do annual members and casual riders use Cyclistic bikes differently?\n",
    "2. Why would casual riders buy Cyclistic annual memberships?\n",
    "3. How can Cyclistic use digital media to influence casual riders to become members?\n",
    "\n",
    "The Following shows: data sources description, data cleaning documentation, a summary of analysis, supporting visualizations, and key findings."
   ]
  },
  {
   "cell_type": "markdown",
   "metadata": {},
   "source": [
    "#### Loading packages"
   ]
  },
  {
   "cell_type": "code",
   "execution_count": 1,
   "metadata": {},
   "outputs": [],
   "source": [
    "import numpy as np                          # Library for numerical operations\n",
    "import math                                 # Library for mathematical operations\n",
    "import os                                   # Library for OS dependent functionality\n",
    "import pandas as pd                         # Library for data manipulation and analysis\n",
    "import seaborn as sns                       # Statistical data visualization\n",
    "import matplotlib.pyplot as plt             # Plotting library\n",
    "import matplotlib.ticker as ticker          # Customizing tick locations on plots\n",
    "from datetime import datetime, timedelta    # Library for datetime operations\n",
    "%matplotlib inline\n",
    "\n",
    "import warnings                             # Library for handling warnings\n",
    "warnings.filterwarnings('ignore')           # Ignore warning messages"
   ]
  },
  {
   "cell_type": "markdown",
   "metadata": {},
   "source": [
    "## Prepare\n",
    "### Data Sources\n",
    "- Cyclistic's historical trip data (from Jan 2023 to Dec 2023) is used for analysis. [Download Here](https://divvy-tripdata.s3.amazonaws.com/index.html) | [License Information](https://divvybikes.com/data-license-agreement)\n",
    "- Each dataset is a CSV (comma-separated values) file containing details of every ride logged by Cyclistic customers.\n",
    "- After downloading the source zip files, the first step is to create a folder with appropriate file names.\n"
   ]
  },
  {
   "cell_type": "markdown",
   "metadata": {},
   "source": [
    "#### Importing datasets \n",
    "\n",
    "- load_datasets function:\n",
    "    - Loads all CSV files from the specified data_dir (default: 'dataset/')\n",
    "    - Creates a list of DataFrames (dfs) by reading each CSV file\n",
    "    - Concatenates all DataFrames in dfs into a single DataFrame\n",
    "    - Returns the concatenated DataFrame\n",
    "- cdt = load_datasets():\n",
    "    - Calls the load_datasets function with default arguments\n",
    "    - Assigns the returned concatenated DataFrame to the variable cdt"
   ]
  },
  {
   "cell_type": "code",
   "execution_count": 3,
   "metadata": {},
   "outputs": [],
   "source": [
    "def load_datasets(data_dir='dataset/'):\n",
    "    \"\"\"\n",
    "    Load multiple CSV datasets from a directory and concatenate them into a single DataFrame.\n",
    "\n",
    "    Parameters:\n",
    "    - data_dir (str): Directory containing CSV files.\n",
    "\n",
    "    Returns:\n",
    "    - pd.DataFrame: Concatenated DataFrame.\n",
    "    \"\"\"\n",
    "    dfs = [pd.read_csv(os.path.join(data_dir, filename)) for filename in os.listdir(data_dir) if filename.endswith('.csv')]\n",
    "    return pd.concat(dfs, ignore_index=True)"
   ]
  },
  {
   "cell_type": "code",
   "execution_count": 4,
   "metadata": {},
   "outputs": [],
   "source": [
    "# Load datasets\n",
    "cdt = load_datasets()"
   ]
  },
  {
   "cell_type": "markdown",
   "metadata": {},
   "source": [
    "#### Preview Dataset\n",
    "\n",
    "In summary, these lines of code provide a quick overview and basic information about the cdt DataFrame, including:\n",
    "- Previewing the first few rows of data\n",
    "- Summary of the DataFrame structure (columns, data types, memory usage)\n",
    "- Identifying columns with missing values and the count of missing values\n",
    "- Getting the number of rows and columns in the DataFrame\n",
    "\n",
    "This can be helpful for understanding the dataset and identifying any potential issues or necessary data cleaning steps before further analysis or processing."
   ]
  },
  {
   "cell_type": "code",
   "execution_count": 5,
   "metadata": {},
   "outputs": [
    {
     "data": {
      "text/html": [
       "<div>\n",
       "<style scoped>\n",
       "    .dataframe tbody tr th:only-of-type {\n",
       "        vertical-align: middle;\n",
       "    }\n",
       "\n",
       "    .dataframe tbody tr th {\n",
       "        vertical-align: top;\n",
       "    }\n",
       "\n",
       "    .dataframe thead th {\n",
       "        text-align: right;\n",
       "    }\n",
       "</style>\n",
       "<table border=\"1\" class=\"dataframe\">\n",
       "  <thead>\n",
       "    <tr style=\"text-align: right;\">\n",
       "      <th></th>\n",
       "      <th>ride_id</th>\n",
       "      <th>rideable_type</th>\n",
       "      <th>started_at</th>\n",
       "      <th>ended_at</th>\n",
       "      <th>start_station_name</th>\n",
       "      <th>start_station_id</th>\n",
       "      <th>end_station_name</th>\n",
       "      <th>end_station_id</th>\n",
       "      <th>start_lat</th>\n",
       "      <th>start_lng</th>\n",
       "      <th>end_lat</th>\n",
       "      <th>end_lng</th>\n",
       "      <th>member_casual</th>\n",
       "    </tr>\n",
       "  </thead>\n",
       "  <tbody>\n",
       "    <tr>\n",
       "      <th>0</th>\n",
       "      <td>8FE8F7D9C10E88C7</td>\n",
       "      <td>electric_bike</td>\n",
       "      <td>2023-04-02 08:37:28</td>\n",
       "      <td>2023-04-02 08:41:37</td>\n",
       "      <td>NaN</td>\n",
       "      <td>NaN</td>\n",
       "      <td>NaN</td>\n",
       "      <td>NaN</td>\n",
       "      <td>41.80</td>\n",
       "      <td>-87.60</td>\n",
       "      <td>41.79</td>\n",
       "      <td>-87.60</td>\n",
       "      <td>member</td>\n",
       "    </tr>\n",
       "    <tr>\n",
       "      <th>1</th>\n",
       "      <td>34E4ED3ADF1D821B</td>\n",
       "      <td>electric_bike</td>\n",
       "      <td>2023-04-19 11:29:02</td>\n",
       "      <td>2023-04-19 11:52:12</td>\n",
       "      <td>NaN</td>\n",
       "      <td>NaN</td>\n",
       "      <td>NaN</td>\n",
       "      <td>NaN</td>\n",
       "      <td>41.87</td>\n",
       "      <td>-87.65</td>\n",
       "      <td>41.93</td>\n",
       "      <td>-87.68</td>\n",
       "      <td>member</td>\n",
       "    </tr>\n",
       "    <tr>\n",
       "      <th>2</th>\n",
       "      <td>5296BF07A2F77CB5</td>\n",
       "      <td>electric_bike</td>\n",
       "      <td>2023-04-19 08:41:22</td>\n",
       "      <td>2023-04-19 08:43:22</td>\n",
       "      <td>NaN</td>\n",
       "      <td>NaN</td>\n",
       "      <td>NaN</td>\n",
       "      <td>NaN</td>\n",
       "      <td>41.93</td>\n",
       "      <td>-87.66</td>\n",
       "      <td>41.93</td>\n",
       "      <td>-87.66</td>\n",
       "      <td>member</td>\n",
       "    </tr>\n",
       "    <tr>\n",
       "      <th>3</th>\n",
       "      <td>40759916B76D5D52</td>\n",
       "      <td>electric_bike</td>\n",
       "      <td>2023-04-19 13:31:30</td>\n",
       "      <td>2023-04-19 13:35:09</td>\n",
       "      <td>NaN</td>\n",
       "      <td>NaN</td>\n",
       "      <td>NaN</td>\n",
       "      <td>NaN</td>\n",
       "      <td>41.92</td>\n",
       "      <td>-87.65</td>\n",
       "      <td>41.91</td>\n",
       "      <td>-87.65</td>\n",
       "      <td>member</td>\n",
       "    </tr>\n",
       "    <tr>\n",
       "      <th>4</th>\n",
       "      <td>77A96F460101AC63</td>\n",
       "      <td>electric_bike</td>\n",
       "      <td>2023-04-19 12:05:36</td>\n",
       "      <td>2023-04-19 12:10:26</td>\n",
       "      <td>NaN</td>\n",
       "      <td>NaN</td>\n",
       "      <td>NaN</td>\n",
       "      <td>NaN</td>\n",
       "      <td>41.91</td>\n",
       "      <td>-87.65</td>\n",
       "      <td>41.91</td>\n",
       "      <td>-87.63</td>\n",
       "      <td>member</td>\n",
       "    </tr>\n",
       "    <tr>\n",
       "      <th>5</th>\n",
       "      <td>8D6A2328E19DC168</td>\n",
       "      <td>electric_bike</td>\n",
       "      <td>2023-04-19 12:17:34</td>\n",
       "      <td>2023-04-19 12:21:38</td>\n",
       "      <td>NaN</td>\n",
       "      <td>NaN</td>\n",
       "      <td>NaN</td>\n",
       "      <td>NaN</td>\n",
       "      <td>41.91</td>\n",
       "      <td>-87.63</td>\n",
       "      <td>41.92</td>\n",
       "      <td>-87.65</td>\n",
       "      <td>member</td>\n",
       "    </tr>\n",
       "    <tr>\n",
       "      <th>6</th>\n",
       "      <td>C97BBA66E07889F9</td>\n",
       "      <td>electric_bike</td>\n",
       "      <td>2023-04-19 09:35:48</td>\n",
       "      <td>2023-04-19 09:45:00</td>\n",
       "      <td>NaN</td>\n",
       "      <td>NaN</td>\n",
       "      <td>NaN</td>\n",
       "      <td>NaN</td>\n",
       "      <td>41.93</td>\n",
       "      <td>-87.66</td>\n",
       "      <td>41.91</td>\n",
       "      <td>-87.65</td>\n",
       "      <td>member</td>\n",
       "    </tr>\n",
       "    <tr>\n",
       "      <th>7</th>\n",
       "      <td>6687AD4C575FF734</td>\n",
       "      <td>electric_bike</td>\n",
       "      <td>2023-04-11 16:13:43</td>\n",
       "      <td>2023-04-11 16:18:41</td>\n",
       "      <td>NaN</td>\n",
       "      <td>NaN</td>\n",
       "      <td>NaN</td>\n",
       "      <td>NaN</td>\n",
       "      <td>42.00</td>\n",
       "      <td>-87.66</td>\n",
       "      <td>41.99</td>\n",
       "      <td>-87.66</td>\n",
       "      <td>member</td>\n",
       "    </tr>\n",
       "    <tr>\n",
       "      <th>8</th>\n",
       "      <td>A8FA4F73B22BC11F</td>\n",
       "      <td>electric_bike</td>\n",
       "      <td>2023-04-11 16:29:24</td>\n",
       "      <td>2023-04-11 16:40:23</td>\n",
       "      <td>NaN</td>\n",
       "      <td>NaN</td>\n",
       "      <td>NaN</td>\n",
       "      <td>NaN</td>\n",
       "      <td>41.99</td>\n",
       "      <td>-87.66</td>\n",
       "      <td>42.00</td>\n",
       "      <td>-87.66</td>\n",
       "      <td>member</td>\n",
       "    </tr>\n",
       "    <tr>\n",
       "      <th>9</th>\n",
       "      <td>81E158FE63D99994</td>\n",
       "      <td>electric_bike</td>\n",
       "      <td>2023-04-19 17:35:40</td>\n",
       "      <td>2023-04-19 17:36:11</td>\n",
       "      <td>NaN</td>\n",
       "      <td>NaN</td>\n",
       "      <td>NaN</td>\n",
       "      <td>NaN</td>\n",
       "      <td>41.88</td>\n",
       "      <td>-87.65</td>\n",
       "      <td>41.88</td>\n",
       "      <td>-87.65</td>\n",
       "      <td>member</td>\n",
       "    </tr>\n",
       "  </tbody>\n",
       "</table>\n",
       "</div>"
      ],
      "text/plain": [
       "            ride_id  rideable_type           started_at             ended_at  \\\n",
       "0  8FE8F7D9C10E88C7  electric_bike  2023-04-02 08:37:28  2023-04-02 08:41:37   \n",
       "1  34E4ED3ADF1D821B  electric_bike  2023-04-19 11:29:02  2023-04-19 11:52:12   \n",
       "2  5296BF07A2F77CB5  electric_bike  2023-04-19 08:41:22  2023-04-19 08:43:22   \n",
       "3  40759916B76D5D52  electric_bike  2023-04-19 13:31:30  2023-04-19 13:35:09   \n",
       "4  77A96F460101AC63  electric_bike  2023-04-19 12:05:36  2023-04-19 12:10:26   \n",
       "5  8D6A2328E19DC168  electric_bike  2023-04-19 12:17:34  2023-04-19 12:21:38   \n",
       "6  C97BBA66E07889F9  electric_bike  2023-04-19 09:35:48  2023-04-19 09:45:00   \n",
       "7  6687AD4C575FF734  electric_bike  2023-04-11 16:13:43  2023-04-11 16:18:41   \n",
       "8  A8FA4F73B22BC11F  electric_bike  2023-04-11 16:29:24  2023-04-11 16:40:23   \n",
       "9  81E158FE63D99994  electric_bike  2023-04-19 17:35:40  2023-04-19 17:36:11   \n",
       "\n",
       "  start_station_name start_station_id end_station_name end_station_id  \\\n",
       "0                NaN              NaN              NaN            NaN   \n",
       "1                NaN              NaN              NaN            NaN   \n",
       "2                NaN              NaN              NaN            NaN   \n",
       "3                NaN              NaN              NaN            NaN   \n",
       "4                NaN              NaN              NaN            NaN   \n",
       "5                NaN              NaN              NaN            NaN   \n",
       "6                NaN              NaN              NaN            NaN   \n",
       "7                NaN              NaN              NaN            NaN   \n",
       "8                NaN              NaN              NaN            NaN   \n",
       "9                NaN              NaN              NaN            NaN   \n",
       "\n",
       "   start_lat  start_lng  end_lat  end_lng member_casual  \n",
       "0      41.80     -87.60    41.79   -87.60        member  \n",
       "1      41.87     -87.65    41.93   -87.68        member  \n",
       "2      41.93     -87.66    41.93   -87.66        member  \n",
       "3      41.92     -87.65    41.91   -87.65        member  \n",
       "4      41.91     -87.65    41.91   -87.63        member  \n",
       "5      41.91     -87.63    41.92   -87.65        member  \n",
       "6      41.93     -87.66    41.91   -87.65        member  \n",
       "7      42.00     -87.66    41.99   -87.66        member  \n",
       "8      41.99     -87.66    42.00   -87.66        member  \n",
       "9      41.88     -87.65    41.88   -87.65        member  "
      ]
     },
     "execution_count": 5,
     "metadata": {},
     "output_type": "execute_result"
    }
   ],
   "source": [
    "cdt.head(10)    # Display the first 10 rows of the dataset"
   ]
  },
  {
   "cell_type": "code",
   "execution_count": 6,
   "metadata": {},
   "outputs": [
    {
     "name": "stdout",
     "output_type": "stream",
     "text": [
      "<class 'pandas.core.frame.DataFrame'>\n",
      "RangeIndex: 5719877 entries, 0 to 5719876\n",
      "Data columns (total 13 columns):\n",
      " #   Column              Dtype  \n",
      "---  ------              -----  \n",
      " 0   ride_id             object \n",
      " 1   rideable_type       object \n",
      " 2   started_at          object \n",
      " 3   ended_at            object \n",
      " 4   start_station_name  object \n",
      " 5   start_station_id    object \n",
      " 6   end_station_name    object \n",
      " 7   end_station_id      object \n",
      " 8   start_lat           float64\n",
      " 9   start_lng           float64\n",
      " 10  end_lat             float64\n",
      " 11  end_lng             float64\n",
      " 12  member_casual       object \n",
      "dtypes: float64(4), object(9)\n",
      "memory usage: 567.3+ MB\n"
     ]
    }
   ],
   "source": [
    "cdt.info()  # Display information about the dataset"
   ]
  },
  {
   "cell_type": "code",
   "execution_count": 7,
   "metadata": {},
   "outputs": [
    {
     "data": {
      "text/plain": [
       "ride_id                    0\n",
       "rideable_type              0\n",
       "started_at                 0\n",
       "ended_at                   0\n",
       "start_station_name    875716\n",
       "start_station_id      875848\n",
       "end_station_name      929202\n",
       "end_station_id        929343\n",
       "start_lat                  0\n",
       "start_lng                  0\n",
       "end_lat                 6990\n",
       "end_lng                 6990\n",
       "member_casual              0\n",
       "dtype: int64"
      ]
     },
     "execution_count": 7,
     "metadata": {},
     "output_type": "execute_result"
    }
   ],
   "source": [
    "cdt.isna().sum()    # Check for missing values"
   ]
  },
  {
   "cell_type": "code",
   "execution_count": 8,
   "metadata": {},
   "outputs": [
    {
     "data": {
      "text/plain": [
       "(5719877, 13)"
      ]
     },
     "execution_count": 8,
     "metadata": {},
     "output_type": "execute_result"
    }
   ],
   "source": [
    "cdt.shape   # Check the shape of the dataset"
   ]
  },
  {
   "cell_type": "markdown",
   "metadata": {},
   "source": [
    "## Data Cleaning and Formatting\n",
    "\n",
    "This code defines a function clean_and_format_data that performs several data cleaning and formatting operations on the input DataFrame cdt:\n",
    "\n",
    "- Convert start_station_id and end_station_id columns to string data type.\n",
    "- Drop rows with missing values using dropna.\n",
    "- Convert started_at and ended_at columns to datetime format.\n",
    "- Create new columns Hour, Day, and Month based on the started_at datetime column.\n",
    "- Calculate the Total_Ride_Time in minutes from started_at and ended_at columns, rounding to 1 decimal place.\n",
    "- Calculate the Distance in kilometers using the latitude and longitude coordinates, rounding to 2 decimal places.\n",
    "- Map the Month column to Month_name using a dictionary.\n",
    "\n",
    "After cleaning and formatting, the updated cdt DataFrame is returned.\n",
    "\n",
    "The code then calls the clean_and_format_data function with the original cdt DataFrame and assigns the result back to cdt.\n",
    "\n",
    "Finally, it displays the first few rows of the cleaned DataFrame using cdt.head() and prints a summary of the DataFrame using cdt.info()."
   ]
  },
  {
   "cell_type": "code",
   "execution_count": 9,
   "metadata": {},
   "outputs": [],
   "source": [
    "def clean_and_format_data(cdt):\n",
    "    \"\"\"\n",
    "    Perform data cleaning and formatting operations on the given DataFrame.\n",
    "\n",
    "    Parameters:\n",
    "    - cdt (pd.DataFrame): Input DataFrame.\n",
    "\n",
    "    Returns:\n",
    "    - pd.DataFrame: Cleaned and formatted DataFrame.\n",
    "    \"\"\"\n",
    "    # Convert station IDs to string\n",
    "    cdt['start_station_id'] = cdt['start_station_id'].astype(str)\n",
    "    cdt['end_station_id'] = cdt['start_station_id'].astype(str)\n",
    "\n",
    "    # Drop missing values\n",
    "    cdt.dropna(axis=0, inplace=True)\n",
    "\n",
    "    # Convert datetime columns\n",
    "    cdt['started_at'] = pd.to_datetime(cdt['started_at'], format=\"%Y-%m-%d %H:%M:%S\")\n",
    "    cdt['ended_at'] = pd.to_datetime(cdt['ended_at'], format=\"%Y-%m-%d %H:%M:%S\")\n",
    "\n",
    "    # Create new columns\n",
    "    cdt['Hour'] = cdt.started_at.apply(lambda x: x.hour)\n",
    "    cdt['Day'] = cdt.started_at.apply(lambda x: x.day_name())\n",
    "    cdt['Month'] = cdt.started_at.apply(lambda x: x.month)\n",
    "\n",
    "    # Calculate ride time and distance\n",
    "    cdt['Total_Ride_Time'] = (cdt['ended_at'] - cdt['started_at']) / timedelta(minutes=1)\n",
    "    cdt['Total_Ride_Time'] = cdt['Total_Ride_Time'].round(decimals=1)\n",
    "\n",
    "    # calculate the ride distance in Kms from given coordinates.\n",
    "    cdt['Lat'] = (cdt['end_lat'] - cdt['start_lat'])\n",
    "    cdt['Lng'] = (cdt['end_lng'] - cdt['start_lng'])\n",
    "    cdt['Distance'] = (np.sqrt((cdt['Lat']**2) + (cdt['Lng']**2))) * 111.32\n",
    "    cdt['Distance'] = cdt['Distance'].round(decimals=2)\n",
    "\n",
    "    # Map month names\n",
    "    month = {1: 'January', 2: 'February', 3: 'March', 4: 'April', 5: 'May', 6: 'June', 7: 'July', 8: 'August', 9: 'September', 10: 'October', 11: 'November', 12: 'December'}\n",
    "    cdt['Month_name'] = cdt['Month'].map(month)\n",
    "\n",
    "    return cdt"
   ]
  },
  {
   "cell_type": "code",
   "execution_count": 10,
   "metadata": {},
   "outputs": [],
   "source": [
    "# Clean and format data\n",
    "cdt = clean_and_format_data(cdt)"
   ]
  },
  {
   "cell_type": "code",
   "execution_count": 11,
   "metadata": {},
   "outputs": [
    {
     "data": {
      "text/html": [
       "<div>\n",
       "<style scoped>\n",
       "    .dataframe tbody tr th:only-of-type {\n",
       "        vertical-align: middle;\n",
       "    }\n",
       "\n",
       "    .dataframe tbody tr th {\n",
       "        vertical-align: top;\n",
       "    }\n",
       "\n",
       "    .dataframe thead th {\n",
       "        text-align: right;\n",
       "    }\n",
       "</style>\n",
       "<table border=\"1\" class=\"dataframe\">\n",
       "  <thead>\n",
       "    <tr style=\"text-align: right;\">\n",
       "      <th></th>\n",
       "      <th>ride_id</th>\n",
       "      <th>rideable_type</th>\n",
       "      <th>started_at</th>\n",
       "      <th>ended_at</th>\n",
       "      <th>start_station_name</th>\n",
       "      <th>start_station_id</th>\n",
       "      <th>end_station_name</th>\n",
       "      <th>end_station_id</th>\n",
       "      <th>start_lat</th>\n",
       "      <th>start_lng</th>\n",
       "      <th>...</th>\n",
       "      <th>end_lng</th>\n",
       "      <th>member_casual</th>\n",
       "      <th>Hour</th>\n",
       "      <th>Day</th>\n",
       "      <th>Month</th>\n",
       "      <th>Total_Ride_Time</th>\n",
       "      <th>Lat</th>\n",
       "      <th>Lng</th>\n",
       "      <th>Distance</th>\n",
       "      <th>Month_name</th>\n",
       "    </tr>\n",
       "  </thead>\n",
       "  <tbody>\n",
       "    <tr>\n",
       "      <th>227</th>\n",
       "      <td>5B6500E1E58655C0</td>\n",
       "      <td>classic_bike</td>\n",
       "      <td>2023-04-10 17:34:35</td>\n",
       "      <td>2023-04-10 18:02:36</td>\n",
       "      <td>Avenue O &amp; 134th St</td>\n",
       "      <td>20214</td>\n",
       "      <td>Avenue O &amp; 134th St</td>\n",
       "      <td>20214</td>\n",
       "      <td>41.651868</td>\n",
       "      <td>-87.539671</td>\n",
       "      <td>...</td>\n",
       "      <td>-87.539671</td>\n",
       "      <td>member</td>\n",
       "      <td>17</td>\n",
       "      <td>Monday</td>\n",
       "      <td>4</td>\n",
       "      <td>28.0</td>\n",
       "      <td>0.000000</td>\n",
       "      <td>0.000000</td>\n",
       "      <td>0.00</td>\n",
       "      <td>April</td>\n",
       "    </tr>\n",
       "    <tr>\n",
       "      <th>383</th>\n",
       "      <td>AA65D25D69AF771F</td>\n",
       "      <td>classic_bike</td>\n",
       "      <td>2023-04-12 12:29:46</td>\n",
       "      <td>2023-04-12 12:54:00</td>\n",
       "      <td>Cottage Grove Ave &amp; 51st St</td>\n",
       "      <td>TA1309000067</td>\n",
       "      <td>Cottage Grove Ave &amp; 51st St</td>\n",
       "      <td>TA1309000067</td>\n",
       "      <td>41.803038</td>\n",
       "      <td>-87.606615</td>\n",
       "      <td>...</td>\n",
       "      <td>-87.606615</td>\n",
       "      <td>member</td>\n",
       "      <td>12</td>\n",
       "      <td>Wednesday</td>\n",
       "      <td>4</td>\n",
       "      <td>24.2</td>\n",
       "      <td>0.000000</td>\n",
       "      <td>0.000000</td>\n",
       "      <td>0.00</td>\n",
       "      <td>April</td>\n",
       "    </tr>\n",
       "    <tr>\n",
       "      <th>409</th>\n",
       "      <td>079FB2C196414482</td>\n",
       "      <td>electric_bike</td>\n",
       "      <td>2023-04-13 17:39:23</td>\n",
       "      <td>2023-04-13 17:40:57</td>\n",
       "      <td>Morgan Ave &amp; 14th Pl</td>\n",
       "      <td>TA1306000002</td>\n",
       "      <td>Morgan Ave &amp; 14th Pl</td>\n",
       "      <td>TA1306000002</td>\n",
       "      <td>41.862430</td>\n",
       "      <td>-87.651152</td>\n",
       "      <td>...</td>\n",
       "      <td>-87.651062</td>\n",
       "      <td>member</td>\n",
       "      <td>17</td>\n",
       "      <td>Thursday</td>\n",
       "      <td>4</td>\n",
       "      <td>1.6</td>\n",
       "      <td>-0.000052</td>\n",
       "      <td>0.000090</td>\n",
       "      <td>0.01</td>\n",
       "      <td>April</td>\n",
       "    </tr>\n",
       "    <tr>\n",
       "      <th>561</th>\n",
       "      <td>599623864C871207</td>\n",
       "      <td>classic_bike</td>\n",
       "      <td>2023-04-29 20:57:10</td>\n",
       "      <td>2023-04-29 20:57:13</td>\n",
       "      <td>Cottage Grove Ave &amp; 51st St</td>\n",
       "      <td>TA1309000067</td>\n",
       "      <td>Cottage Grove Ave &amp; 51st St</td>\n",
       "      <td>TA1309000067</td>\n",
       "      <td>41.803038</td>\n",
       "      <td>-87.606615</td>\n",
       "      <td>...</td>\n",
       "      <td>-87.606615</td>\n",
       "      <td>member</td>\n",
       "      <td>20</td>\n",
       "      <td>Saturday</td>\n",
       "      <td>4</td>\n",
       "      <td>0.0</td>\n",
       "      <td>0.000000</td>\n",
       "      <td>0.000000</td>\n",
       "      <td>0.00</td>\n",
       "      <td>April</td>\n",
       "    </tr>\n",
       "    <tr>\n",
       "      <th>692</th>\n",
       "      <td>63ECC8A13D11A76A</td>\n",
       "      <td>classic_bike</td>\n",
       "      <td>2023-04-20 17:03:11</td>\n",
       "      <td>2023-04-20 17:24:58</td>\n",
       "      <td>California Ave &amp; Division St</td>\n",
       "      <td>13256</td>\n",
       "      <td>California Ave &amp; Milwaukee Ave</td>\n",
       "      <td>13256</td>\n",
       "      <td>41.903029</td>\n",
       "      <td>-87.697474</td>\n",
       "      <td>...</td>\n",
       "      <td>-87.697153</td>\n",
       "      <td>casual</td>\n",
       "      <td>17</td>\n",
       "      <td>Thursday</td>\n",
       "      <td>4</td>\n",
       "      <td>21.8</td>\n",
       "      <td>0.019666</td>\n",
       "      <td>0.000321</td>\n",
       "      <td>2.19</td>\n",
       "      <td>April</td>\n",
       "    </tr>\n",
       "  </tbody>\n",
       "</table>\n",
       "<p>5 rows × 21 columns</p>\n",
       "</div>"
      ],
      "text/plain": [
       "              ride_id  rideable_type          started_at            ended_at  \\\n",
       "227  5B6500E1E58655C0   classic_bike 2023-04-10 17:34:35 2023-04-10 18:02:36   \n",
       "383  AA65D25D69AF771F   classic_bike 2023-04-12 12:29:46 2023-04-12 12:54:00   \n",
       "409  079FB2C196414482  electric_bike 2023-04-13 17:39:23 2023-04-13 17:40:57   \n",
       "561  599623864C871207   classic_bike 2023-04-29 20:57:10 2023-04-29 20:57:13   \n",
       "692  63ECC8A13D11A76A   classic_bike 2023-04-20 17:03:11 2023-04-20 17:24:58   \n",
       "\n",
       "               start_station_name start_station_id  \\\n",
       "227           Avenue O & 134th St            20214   \n",
       "383   Cottage Grove Ave & 51st St     TA1309000067   \n",
       "409          Morgan Ave & 14th Pl     TA1306000002   \n",
       "561   Cottage Grove Ave & 51st St     TA1309000067   \n",
       "692  California Ave & Division St            13256   \n",
       "\n",
       "                   end_station_name end_station_id  start_lat  start_lng  ...  \\\n",
       "227             Avenue O & 134th St          20214  41.651868 -87.539671  ...   \n",
       "383     Cottage Grove Ave & 51st St   TA1309000067  41.803038 -87.606615  ...   \n",
       "409            Morgan Ave & 14th Pl   TA1306000002  41.862430 -87.651152  ...   \n",
       "561     Cottage Grove Ave & 51st St   TA1309000067  41.803038 -87.606615  ...   \n",
       "692  California Ave & Milwaukee Ave          13256  41.903029 -87.697474  ...   \n",
       "\n",
       "       end_lng  member_casual Hour        Day Month  Total_Ride_Time  \\\n",
       "227 -87.539671         member   17     Monday     4             28.0   \n",
       "383 -87.606615         member   12  Wednesday     4             24.2   \n",
       "409 -87.651062         member   17   Thursday     4              1.6   \n",
       "561 -87.606615         member   20   Saturday     4              0.0   \n",
       "692 -87.697153         casual   17   Thursday     4             21.8   \n",
       "\n",
       "          Lat       Lng  Distance  Month_name  \n",
       "227  0.000000  0.000000      0.00       April  \n",
       "383  0.000000  0.000000      0.00       April  \n",
       "409 -0.000052  0.000090      0.01       April  \n",
       "561  0.000000  0.000000      0.00       April  \n",
       "692  0.019666  0.000321      2.19       April  \n",
       "\n",
       "[5 rows x 21 columns]"
      ]
     },
     "execution_count": 11,
     "metadata": {},
     "output_type": "execute_result"
    }
   ],
   "source": [
    "cdt.head()  # Display the first 5 rows of the cleaned dataset"
   ]
  },
  {
   "cell_type": "code",
   "execution_count": 12,
   "metadata": {},
   "outputs": [
    {
     "name": "stdout",
     "output_type": "stream",
     "text": [
      "<class 'pandas.core.frame.DataFrame'>\n",
      "Index: 4331953 entries, 227 to 5719869\n",
      "Data columns (total 21 columns):\n",
      " #   Column              Dtype         \n",
      "---  ------              -----         \n",
      " 0   ride_id             object        \n",
      " 1   rideable_type       object        \n",
      " 2   started_at          datetime64[ns]\n",
      " 3   ended_at            datetime64[ns]\n",
      " 4   start_station_name  object        \n",
      " 5   start_station_id    object        \n",
      " 6   end_station_name    object        \n",
      " 7   end_station_id      object        \n",
      " 8   start_lat           float64       \n",
      " 9   start_lng           float64       \n",
      " 10  end_lat             float64       \n",
      " 11  end_lng             float64       \n",
      " 12  member_casual       object        \n",
      " 13  Hour                int64         \n",
      " 14  Day                 object        \n",
      " 15  Month               int64         \n",
      " 16  Total_Ride_Time     float64       \n",
      " 17  Lat                 float64       \n",
      " 18  Lng                 float64       \n",
      " 19  Distance            float64       \n",
      " 20  Month_name          object        \n",
      "dtypes: datetime64[ns](2), float64(8), int64(2), object(9)\n",
      "memory usage: 727.1+ MB\n"
     ]
    }
   ],
   "source": [
    "cdt.info()  # Check the data types"
   ]
  },
  {
   "cell_type": "markdown",
   "metadata": {},
   "source": []
  },
  {
   "cell_type": "markdown",
   "metadata": {},
   "source": [
    "## Exploratory Data Analysis (EDA)\n",
    "\n",
    "- Set the Seaborn plotting style to 'whitegrid'.\n",
    "- Display the first 3 rows of the cdt DataFrame.\n",
    "- Group the data by member_casual and count the number of rides for each user type, storing the result in cdt_mem_casual.\n",
    "\n",
    "And finally, The process of data exploration to identify patterns and trends between Cyclistic members and casual riders splits across the following variables:\n",
    "\n",
    "- Total number of riders for each type\n",
    "- the average distance covered by each user type\n",
    "- the average ride time for each user type\n",
    "- the count of rides for each hour of the day, separated by user type\n",
    "- the count of rides for each day of the week, separated by user type\n",
    "- the count of rides for each month, separated by user type\n",
    "- the count of rides for each ride type (e.g., classic_bike, electric_bike), separated by user type\n",
    "\n",
    "These plots provide insights into the ride patterns of different user types (casual vs. member) based on various factors such as time of day, day of the week, month, and ride type."
   ]
  },
  {
   "cell_type": "code",
   "execution_count": 13,
   "metadata": {},
   "outputs": [],
   "source": [
    "sns.set_style('whitegrid')"
   ]
  },
  {
   "cell_type": "code",
   "execution_count": 14,
   "metadata": {},
   "outputs": [
    {
     "data": {
      "text/html": [
       "<div>\n",
       "<style scoped>\n",
       "    .dataframe tbody tr th:only-of-type {\n",
       "        vertical-align: middle;\n",
       "    }\n",
       "\n",
       "    .dataframe tbody tr th {\n",
       "        vertical-align: top;\n",
       "    }\n",
       "\n",
       "    .dataframe thead th {\n",
       "        text-align: right;\n",
       "    }\n",
       "</style>\n",
       "<table border=\"1\" class=\"dataframe\">\n",
       "  <thead>\n",
       "    <tr style=\"text-align: right;\">\n",
       "      <th></th>\n",
       "      <th>ride_id</th>\n",
       "      <th>rideable_type</th>\n",
       "      <th>started_at</th>\n",
       "      <th>ended_at</th>\n",
       "      <th>start_station_name</th>\n",
       "      <th>start_station_id</th>\n",
       "      <th>end_station_name</th>\n",
       "      <th>end_station_id</th>\n",
       "      <th>start_lat</th>\n",
       "      <th>start_lng</th>\n",
       "      <th>...</th>\n",
       "      <th>end_lng</th>\n",
       "      <th>member_casual</th>\n",
       "      <th>Hour</th>\n",
       "      <th>Day</th>\n",
       "      <th>Month</th>\n",
       "      <th>Total_Ride_Time</th>\n",
       "      <th>Lat</th>\n",
       "      <th>Lng</th>\n",
       "      <th>Distance</th>\n",
       "      <th>Month_name</th>\n",
       "    </tr>\n",
       "  </thead>\n",
       "  <tbody>\n",
       "    <tr>\n",
       "      <th>227</th>\n",
       "      <td>5B6500E1E58655C0</td>\n",
       "      <td>classic_bike</td>\n",
       "      <td>2023-04-10 17:34:35</td>\n",
       "      <td>2023-04-10 18:02:36</td>\n",
       "      <td>Avenue O &amp; 134th St</td>\n",
       "      <td>20214</td>\n",
       "      <td>Avenue O &amp; 134th St</td>\n",
       "      <td>20214</td>\n",
       "      <td>41.651868</td>\n",
       "      <td>-87.539671</td>\n",
       "      <td>...</td>\n",
       "      <td>-87.539671</td>\n",
       "      <td>member</td>\n",
       "      <td>17</td>\n",
       "      <td>Monday</td>\n",
       "      <td>4</td>\n",
       "      <td>28.0</td>\n",
       "      <td>0.000000</td>\n",
       "      <td>0.00000</td>\n",
       "      <td>0.00</td>\n",
       "      <td>April</td>\n",
       "    </tr>\n",
       "    <tr>\n",
       "      <th>383</th>\n",
       "      <td>AA65D25D69AF771F</td>\n",
       "      <td>classic_bike</td>\n",
       "      <td>2023-04-12 12:29:46</td>\n",
       "      <td>2023-04-12 12:54:00</td>\n",
       "      <td>Cottage Grove Ave &amp; 51st St</td>\n",
       "      <td>TA1309000067</td>\n",
       "      <td>Cottage Grove Ave &amp; 51st St</td>\n",
       "      <td>TA1309000067</td>\n",
       "      <td>41.803038</td>\n",
       "      <td>-87.606615</td>\n",
       "      <td>...</td>\n",
       "      <td>-87.606615</td>\n",
       "      <td>member</td>\n",
       "      <td>12</td>\n",
       "      <td>Wednesday</td>\n",
       "      <td>4</td>\n",
       "      <td>24.2</td>\n",
       "      <td>0.000000</td>\n",
       "      <td>0.00000</td>\n",
       "      <td>0.00</td>\n",
       "      <td>April</td>\n",
       "    </tr>\n",
       "    <tr>\n",
       "      <th>409</th>\n",
       "      <td>079FB2C196414482</td>\n",
       "      <td>electric_bike</td>\n",
       "      <td>2023-04-13 17:39:23</td>\n",
       "      <td>2023-04-13 17:40:57</td>\n",
       "      <td>Morgan Ave &amp; 14th Pl</td>\n",
       "      <td>TA1306000002</td>\n",
       "      <td>Morgan Ave &amp; 14th Pl</td>\n",
       "      <td>TA1306000002</td>\n",
       "      <td>41.862430</td>\n",
       "      <td>-87.651152</td>\n",
       "      <td>...</td>\n",
       "      <td>-87.651062</td>\n",
       "      <td>member</td>\n",
       "      <td>17</td>\n",
       "      <td>Thursday</td>\n",
       "      <td>4</td>\n",
       "      <td>1.6</td>\n",
       "      <td>-0.000052</td>\n",
       "      <td>0.00009</td>\n",
       "      <td>0.01</td>\n",
       "      <td>April</td>\n",
       "    </tr>\n",
       "  </tbody>\n",
       "</table>\n",
       "<p>3 rows × 21 columns</p>\n",
       "</div>"
      ],
      "text/plain": [
       "              ride_id  rideable_type          started_at            ended_at  \\\n",
       "227  5B6500E1E58655C0   classic_bike 2023-04-10 17:34:35 2023-04-10 18:02:36   \n",
       "383  AA65D25D69AF771F   classic_bike 2023-04-12 12:29:46 2023-04-12 12:54:00   \n",
       "409  079FB2C196414482  electric_bike 2023-04-13 17:39:23 2023-04-13 17:40:57   \n",
       "\n",
       "              start_station_name start_station_id  \\\n",
       "227          Avenue O & 134th St            20214   \n",
       "383  Cottage Grove Ave & 51st St     TA1309000067   \n",
       "409         Morgan Ave & 14th Pl     TA1306000002   \n",
       "\n",
       "                end_station_name end_station_id  start_lat  start_lng  ...  \\\n",
       "227          Avenue O & 134th St          20214  41.651868 -87.539671  ...   \n",
       "383  Cottage Grove Ave & 51st St   TA1309000067  41.803038 -87.606615  ...   \n",
       "409         Morgan Ave & 14th Pl   TA1306000002  41.862430 -87.651152  ...   \n",
       "\n",
       "       end_lng  member_casual Hour        Day Month  Total_Ride_Time  \\\n",
       "227 -87.539671         member   17     Monday     4             28.0   \n",
       "383 -87.606615         member   12  Wednesday     4             24.2   \n",
       "409 -87.651062         member   17   Thursday     4              1.6   \n",
       "\n",
       "          Lat      Lng  Distance  Month_name  \n",
       "227  0.000000  0.00000      0.00       April  \n",
       "383  0.000000  0.00000      0.00       April  \n",
       "409 -0.000052  0.00009      0.01       April  \n",
       "\n",
       "[3 rows x 21 columns]"
      ]
     },
     "execution_count": 14,
     "metadata": {},
     "output_type": "execute_result"
    }
   ],
   "source": [
    "cdt.head(3)"
   ]
  },
  {
   "cell_type": "code",
   "execution_count": 15,
   "metadata": {},
   "outputs": [
    {
     "data": {
      "text/plain": [
       "member_casual\n",
       "casual    1531825\n",
       "member    2800128\n",
       "Name: ride_id, dtype: int64"
      ]
     },
     "execution_count": 15,
     "metadata": {},
     "output_type": "execute_result"
    }
   ],
   "source": [
    "#checking total ride of member and casual user\n",
    "cdt_mem_casual=cdt.groupby(\"member_casual\")[\"ride_id\"].count()   # Group by member_casual and count the number of rides\n",
    "\n",
    "cdt_mem_casual"
   ]
  },
  {
   "cell_type": "markdown",
   "metadata": {},
   "source": [
    "#### Total Riders by User Type"
   ]
  },
  {
   "cell_type": "code",
   "execution_count": 32,
   "metadata": {},
   "outputs": [],
   "source": [
    "# Plot total riders by user type\n",
    "def plot_user_type_counts(cdt):\n",
    "    \"\"\"\n",
    "    Plot total riders by user type.\n",
    "\n",
    "    Parameters:\n",
    "    - cdt (pd.DataFrame): DataFrame containing ride data.\n",
    "    \"\"\"\n",
    "    sns.barplot(x=cdt_mem_casual.index, y=cdt_mem_casual.values, palette={'member': 'skyblue', 'casual': 'coral'})\n",
    "    plt.ylabel(\"Number of Riders\")\n",
    "    #plt.xlabel(\"User Type\")\n",
    "    plt.show()"
   ]
  },
  {
   "cell_type": "code",
   "execution_count": 33,
   "metadata": {},
   "outputs": [
    {
     "data": {
      "image/png": "[encoded data removed]",
      "text/plain": [
       "<Figure size 640x480 with 1 Axes>"
      ]
     },
     "metadata": {},
     "output_type": "display_data"
    }
   ],
   "source": [
    "# Plot total riders by user type\n",
    "plot_user_type_counts(cdt)"
   ]
  },
  {
   "cell_type": "markdown",
   "metadata": {},
   "source": [
    "- Members: The graph shows that there are more than twice as many member rides (2.8 million) than casual rider trips (1.5 million). \n",
    "- Casual Riders: Casual riders make up a significant portion of total ridership (around 35%)."
   ]
  },
  {
   "cell_type": "markdown",
   "metadata": {},
   "source": [
    "#### Total Distance by User Type"
   ]
  },
  {
   "cell_type": "code",
   "execution_count": 18,
   "metadata": {},
   "outputs": [],
   "source": [
    "# Plot Distance covered by user type\n",
    "def plot_user_type_dis(cdt):\n",
    "    \"\"\"\n",
    "    Plot distance by user type.\n",
    "\n",
    "    Parameters:\n",
    "    - cdt (pd.DataFrame): DataFrame containing ride data.\n",
    "    \"\"\"\n",
    "    sns.barplot(x='member_casual', y='Distance', data=cdt, palette={'member': 'skyblue', 'casual': 'coral'})\n",
    "    plt.ylabel(\"Distance\")\n",
    "    #plt.xlabel(\"User Type\")\n",
    "    plt.show()"
   ]
  },
  {
   "cell_type": "code",
   "execution_count": 19,
   "metadata": {},
   "outputs": [
    {
     "data": {
      "image/png": "[encoded data removed]",
      "text/plain": [
       "<Figure size 640x480 with 1 Axes>"
      ]
     },
     "metadata": {},
     "output_type": "display_data"
    }
   ],
   "source": [
    "# Plot distance by user type\n",
    "plot_user_type_dis(cdt)"
   ]
  },
  {
   "cell_type": "markdown",
   "metadata": {},
   "source": [
    "- members riders have a mean trip distance of ~2.3 kilometers per trip.\n",
    "- Casual riders have a mean trip distance of ~2.4 kilometers per trip.\n",
    "- Casual riders have a higher annual mean trip distance traveled."
   ]
  },
  {
   "cell_type": "markdown",
   "metadata": {},
   "source": [
    "#### Total Ride Time by User Type"
   ]
  },
  {
   "cell_type": "code",
   "execution_count": 20,
   "metadata": {},
   "outputs": [],
   "source": [
    "#plot ride time of riders\n",
    "def plot_ride_time_type(cdt):\n",
    "    \"\"\"\n",
    "    Plot ride time by user type.\n",
    "\n",
    "    Parameters:\n",
    "    - cdt (pd.DataFrame): DataFrame containing ride data.\n",
    "    \"\"\"\n",
    "    sns.barplot(x='member_casual', y='Total_Ride_Time', data=cdt, palette={'member': 'skyblue', 'casual': 'coral'})\n",
    "    plt.ylabel(\"Total Ride Time\")\n",
    "    #plt.xlabel(\"User Type\")\n",
    "    plt.show()"
   ]
  },
  {
   "cell_type": "code",
   "execution_count": 21,
   "metadata": {},
   "outputs": [
    {
     "data": {
      "image/png": "[encoded data removed]",
      "text/plain": [
       "<Figure size 640x480 with 1 Axes>"
      ]
     },
     "metadata": {},
     "output_type": "display_data"
    }
   ],
   "source": [
    "# Plot ride time by user type\n",
    "plot_ride_time_type(cdt)"
   ]
  },
  {
   "cell_type": "markdown",
   "metadata": {},
   "source": [
    "- Cyclistic members have a mean trip duration of ~13 minutes.\n",
    "- Casual riders have a mean trip duration of ~25 minutes.\n",
    "- Casual riders have a higher annual mean trip duration and distance traveled."
   ]
  },
  {
   "cell_type": "markdown",
   "metadata": {},
   "source": [
    "#### Total Trips Taken in a Day"
   ]
  },
  {
   "cell_type": "code",
   "execution_count": 22,
   "metadata": {},
   "outputs": [],
   "source": [
    "#plot count of rides per hour\n",
    "def plot_ride_hour(cdt):\n",
    "    \"\"\"\n",
    "    Plot count of rides per hour.\n",
    "\n",
    "    Parameters:\n",
    "    - cdt (pd.DataFrame): DataFrame containing ride data.\n",
    "    \"\"\"\n",
    "    hour_counts = cdt.groupby(['Hour', 'member_casual']).size().unstack(fill_value=0)\n",
    "    hour_counts.plot(kind='line', marker='o', color={'member': 'skyblue', 'casual': 'coral'})\n",
    "    plt.xlabel(\"Hour\")\n",
    "    plt.ylabel(\"Count of Rides\")\n",
    "    #plt.title(\"Count of Rides per Hour\")\n",
    "    plt.legend(title='User Type')\n",
    "    plt.grid(True)\n",
    "    plt.tight_layout()\n",
    "    plt.show()\n"
   ]
  },
  {
   "cell_type": "code",
   "execution_count": 23,
   "metadata": {},
   "outputs": [
    {
     "data": {
      "image/png": "[encoded data removed]",
      "text/plain": [
       "<Figure size 640x480 with 1 Axes>"
      ]
     },
     "metadata": {},
     "output_type": "display_data"
    }
   ],
   "source": [
    "#plot count of rides per hour\n",
    "plot_ride_hour(cdt)"
   ]
  },
  {
   "cell_type": "markdown",
   "metadata": {},
   "source": [
    "- Cyclistic members frequented most at 5 PM, with approximately 300,000 trips, and the least at 3 AM, with about 5,000 trips.\n",
    "- Casual riders frequented most at 5 PM, with approximately 150,000 trips, and the least at 3 AM, with about 5,000 trips.\n",
    "- Cyclistic members also have a high usage activity at 8 AM, with approximately 200,000 trips.\n",
    "- Both members and casual users have ascending usage during the day."
   ]
  },
  {
   "cell_type": "markdown",
   "metadata": {},
   "source": [
    "#### Total rides per day"
   ]
  },
  {
   "cell_type": "code",
   "execution_count": 26,
   "metadata": {},
   "outputs": [],
   "source": [
    "#plot count of rides per day\n",
    "\n",
    "def plot_ride_day(cdt):\n",
    "    \"\"\"\n",
    "    Plot count of rides per day.\n",
    "\n",
    "    Parameters:\n",
    "    - cdt (pd.DataFrame): DataFrame containing ride data.\n",
    "    \"\"\"\n",
    "    order = [\"Monday\", \"Tuesday\", \"Wednesday\", \"Thursday\", \"Friday\", \"Saturday\", \"Sunday\"]\n",
    "\n",
    "    sns.countplot(x='Day', hue='member_casual', data=cdt, palette={'member': 'skyblue', 'casual': 'coral'}, order=order)\n",
    "    plt.xlabel(\"Day\")\n",
    "    plt.ylabel(\"Count of Rides\")\n",
    "    plt.tight_layout()\n",
    "    plt.show()"
   ]
  },
  {
   "cell_type": "code",
   "execution_count": 27,
   "metadata": {},
   "outputs": [
    {
     "data": {
      "image/png": "[encoded data removed]",
      "text/plain": [
       "<Figure size 640x480 with 1 Axes>"
      ]
     },
     "metadata": {},
     "output_type": "display_data"
    }
   ],
   "source": [
    "#plot count of rides per day\n",
    "plot_ride_day(cdt)"
   ]
  },
  {
   "cell_type": "markdown",
   "metadata": {},
   "source": [
    "- Cyclistic members frequented the most on Wednesdays and Thursdays, with approximately 450,000 trips, and least on Sundays, with about 300,000 trips.\n",
    "- Casual riders frequented the most on Saturdays, with approximately 300,000 trips, and least on Mondays, with about 197,000 trips.\n",
    "- On weekdays (Mon-Fri), Cyclistic members have shown higher usage.\n",
    "- On weekends (Sat-Sun), casual users have shown increasing usage but still lower then members."
   ]
  },
  {
   "cell_type": "markdown",
   "metadata": {},
   "source": [
    "#### Total rides per month"
   ]
  },
  {
   "cell_type": "code",
   "execution_count": 28,
   "metadata": {},
   "outputs": [],
   "source": [
    "# count of Rides per month\n",
    "\n",
    "def plot_ride_month(cdt):\n",
    "    \"\"\"\n",
    "    Plot count of rides per month.\n",
    "\n",
    "    Parameters:\n",
    "    - cdt (pd.DataFrame): DataFrame containing ride data.\n",
    "    \"\"\"\n",
    "    plt.figure(figsize=(12,6))\n",
    "    order = ['January', 'February', 'March', 'April', 'May', 'June', 'July', 'August', 'September', 'October', 'November','December']\n",
    "\n",
    "    sns.countplot(x='Month_name', hue='member_casual', data=cdt, palette={'member': 'skyblue', 'casual': 'coral'}, order=order)\n",
    "    plt.ylabel(\"Count of Rides\")\n",
    "    plt.tight_layout()\n",
    "    plt.show()"
   ]
  },
  {
   "cell_type": "code",
   "execution_count": 29,
   "metadata": {},
   "outputs": [
    {
     "data": {
      "image/png": "[encoded data removed]",
      "text/plain": [
       "<Figure size 1200x600 with 1 Axes>"
      ]
     },
     "metadata": {},
     "output_type": "display_data"
    }
   ],
   "source": [
    "#plot count of rides per month\n",
    "plot_ride_month(cdt)"
   ]
  },
  {
   "cell_type": "markdown",
   "metadata": {},
   "source": [
    "- Cyclistic members recorded their highest activity in August 2023, with 350,000 trips, and the lowest in February 2023, with 120,000 trips.\n",
    "- Casual riders recorded their highest activity in July 2023, with 240,000 trips, and the lowest in January 2023, with 25,000 trips.\n"
   ]
  },
  {
   "cell_type": "markdown",
   "metadata": {},
   "source": [
    "#### Total ride type for different user types"
   ]
  },
  {
   "cell_type": "code",
   "execution_count": 30,
   "metadata": {},
   "outputs": [],
   "source": [
    "#checking total ride count per ride type\n",
    "def plot_rides_by_ride_type(cdt):\n",
    "    \"\"\"\n",
    "    Plot rides by ride type for different user types.\n",
    "\n",
    "    Parameters:\n",
    "    - cdt (pd.DataFrame): DataFrame containing ride data.\n",
    "    \"\"\"\n",
    "    sns.countplot(x='rideable_type', hue='member_casual', data=cdt, palette={'member': 'skyblue', 'casual': 'coral'})\n",
    "    plt.xlabel(\"Rideable Type\")\n",
    "    plt.ylabel(\"Count of Rides\")\n",
    "    plt.tight_layout()\n",
    "    plt.show()"
   ]
  },
  {
   "cell_type": "code",
   "execution_count": 31,
   "metadata": {},
   "outputs": [
    {
     "data": {
      "image/png": "[encoded data removed]",
      "text/plain": [
       "<Figure size 640x480 with 1 Axes>"
      ]
     },
     "metadata": {},
     "output_type": "display_data"
    }
   ],
   "source": [
    "# Plot rides by ride type\n",
    "plot_rides_by_ride_type(cdt)"
   ]
  },
  {
   "cell_type": "markdown",
   "metadata": {},
   "source": [
    "- Cyclistic members prefer the classic bicycle to the electric one — of the total trips taken in one year, 1.80 million have been on a classic bicycle. On the other hand, only 0.99 million trips were on electric bicycles.\n",
    "- Casual riders have also shown a higher preference for classic bicycles — of the total trips taken in one year, 0.85 million have been on a classic bicycle. On the other hand, only 0.55 million trips were on electric bicycles.\n",
    "- Casual riders have also used the docked bicycles, with 0.15 million trips taken."
   ]
  },
  {
   "cell_type": "markdown",
   "metadata": {},
   "source": [
    "## Key Observations\n",
    "\n",
    "The company's customer base is divided into two distinct user groups: Cyclistic members and casual riders. An analysis of their usage patterns reveals notable differences in how these groups utilize the bike-sharing services.\n",
    "\n",
    "1. **Membership Advantage**: Cyclistic members account for a significantly higher number of trips compared to casual riders during the year under study. This suggests that members are more frequent users of the bike-sharing services.\n",
    "\n",
    "2. **Ride Duration and Distance**: Casual riders tend to have longer average trip durations and cover greater distances than Cyclistic members on any given day of the week. This pattern could indicate that casual riders are more likely to use the bike-sharing services for leisure, recreational activities, or exercise, while members primarily use them for commuting or running errands.\n",
    "\n",
    "3. **Peak Usage Hours**: Both user groups exhibit a peak in activity around 5 PM, potentially indicating a preference for riding during pleasant weather conditions. However, Cyclistic members also demonstrate a secondary peak at 8 AM, which could be attributed to commuting to work.\n",
    "\n",
    "4. **Weekend Popularity**: Both users experience their busiest periods on weekends, suggesting a higher demand for bike-sharing services for recreational purposes during those days.\n",
    "\n",
    "5. **Preference for Classic Bikes**: The classic bicycle emerges as the most popular choice among both user types. However, it is noteworthy that docked bicycles seem to be more prevalent among casual riders.\n",
    "\n",
    "6. **Seasonal Trends**: Both user groups exhibit the highest number of trips during the summer months from May to August. However, there is a noticeable decline in bike-sharing usage from September to February, which could be attributed to changing weather conditions and decreasing temperatures.\n"
   ]
  },
  {
   "cell_type": "markdown",
   "metadata": {},
   "source": [
    "## Act\n",
    "\n",
    "The final part of an analysis is to derive conclusions and take action by recommending solutions depending on the problem statement and the results.\n",
    "\n",
    "### Recommendations\n",
    "\n",
    "- Implement targeted promotions for casual riders on weekdays to encourage more uniform usage of the bike-share services throughout the week. Increased exposure to Cyclistic's offerings may also improve the chances of converting casual riders into members.\n",
    "\n",
    "- Introduce exclusive benefits for Cyclistic members, such as priority access during peak hours and discounted pricing during non-peak times. This could incentivize casual riders to consider an annual membership for enhanced convenience and value.\n",
    "\n",
    "- Expand membership options by introducing short-term plans like one-week or one-month memberships. However, pricing these plans strategically higher than the annual membership cost over 12 months could encourage more casual riders to opt for the annual plan, ultimately driving long-term commitment.\n",
    "\n",
    "- Collaborate with organizations and companies to promote bike usage and offer various membership schemes, such as a 12+1 month promotion for annual membership purchases. Such partnerships could increase visibility and incentivize new member acquisitions.\n",
    "\n",
    "- Implement group discounts or family plans for annual memberships, making it more attractive for friends, students, and families to join the Cyclistic community together. This could foster a sense of community and encourage word-of-mouth promotion.\n",
    "\n",
    "These recommendations aim to address the key findings from the analysis, focusing on strategies to retain and convert casual riders into members, while also enhancing the overall customer experience and value proposition for Cyclistic members.\n"
   ]
  },
  {
   "cell_type": "code",
   "execution_count": 34,
   "metadata": {},
   "outputs": [
    {
     "name": "stdout",
     "output_type": "stream",
     "text": [
      "Dataset exported as CSV file successfully.\n"
     ]
    }
   ],
   "source": [
    "cdt.to_csv('cyclistic_dataset.csv', index=False)\n",
    "\n",
    "print(\"Dataset exported as CSV file successfully.\")"
   ]
  }
 ],
 "metadata": {
  "kernelspec": {
   "display_name": "data",
   "language": "python",
   "name": "python3"
  },
  "language_info": {
   "codemirror_mode": {
    "name": "ipython",
    "version": 3
   },
   "file_extension": ".py",
   "mimetype": "text/x-python",
   "name": "python",
   "nbconvert_exporter": "python",
   "pygments_lexer": "ipython3",
   "version": "3.10.13"
  }
 },
 "nbformat": 4,
 "nbformat_minor": 2
}
